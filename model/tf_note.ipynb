{
 "nbformat": 4,
 "nbformat_minor": 2,
 "metadata": {
  "language_info": {
   "name": "python",
   "codemirror_mode": {
    "name": "ipython",
    "version": 3
   },
   "version": "3.7.6-final"
  },
  "orig_nbformat": 2,
  "file_extension": ".py",
  "mimetype": "text/x-python",
  "name": "python",
  "npconvert_exporter": "python",
  "pygments_lexer": "ipython3",
  "version": 3,
  "kernelspec": {
   "name": "python37664bitvenvvenv6a8cbae5fbc548fea7bbd7a81c9c1349",
   "display_name": "Python 3.7.6 64-bit ('.venv': venv)"
  }
 },
 "cells": [
  {
   "source": [
    "from tensorflow.python.client import device_lib\n",
    "device_lib.list_local_devices()"
   ],
   "cell_type": "code",
   "outputs": [
    {
     "output_type": "execute_result",
     "data": {
      "text/plain": "[name: \"/device:CPU:0\"\n device_type: \"CPU\"\n memory_limit: 268435456\n locality {\n }\n incarnation: 6746044691002074374,\n name: \"/device:GPU:0\"\n device_type: \"GPU\"\n memory_limit: 6588305899\n locality {\n   bus_id: 1\n   links {\n   }\n }\n incarnation: 16167427855671865937\n physical_device_desc: \"device: 0, name: GeForce RTX 2070 SUPER, pci bus id: 0000:26:00.0, compute capability: 7.5\"]"
     },
     "metadata": {},
     "execution_count": 1
    }
   ],
   "metadata": {},
   "execution_count": 1
  },
  {
   "cell_type": "code",
   "execution_count": null,
   "metadata": {},
   "outputs": [],
   "source": []
  }
 ]
}