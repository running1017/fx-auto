{
 "nbformat": 4,
 "nbformat_minor": 2,
 "metadata": {
  "language_info": {
   "name": "python",
   "codemirror_mode": {
    "name": "ipython",
    "version": 3
   },
   "version": "3.7.6-final"
  },
  "orig_nbformat": 2,
  "file_extension": ".py",
  "mimetype": "text/x-python",
  "name": "python",
  "npconvert_exporter": "python",
  "pygments_lexer": "ipython3",
  "version": 3,
  "kernelspec": {
   "name": "python37664bitvenvvenv6a8cbae5fbc548fea7bbd7a81c9c1349",
   "display_name": "Python 3.7.6 64-bit ('.venv': venv)"
  }
 },
 "cells": [
  {
   "cell_type": "code",
   "execution_count": 38,
   "metadata": {},
   "outputs": [],
   "source": [
    "from oandapyV20 import API\n",
    "from oandapyV20.exceptions import V20Error\n",
    "from oandapyV20.endpoints.pricing import PricingStream\n",
    "import oandapyV20.endpoints.orders as orders\n",
    "import oandapyV20.endpoints.instruments as instruments\n",
    "import oandapyV20.endpoints.accounts as accounts\n",
    "import oandapyV20.endpoints.positions as positions\n",
    "\n",
    "accountID = '101-009-13403392-001'\n",
    "access_token = '01705d704a471b7790faa4e31ad03c95-4605bb70f4b7a375c730f743c2e2f40b'\n",
    "\n",
    "api = API(access_token=access_token, environment='practice')"
   ]
  },
  {
   "cell_type": "code",
   "execution_count": 14,
   "metadata": {},
   "outputs": [
    {
     "data": {
      "text/plain": "{'instruments': [{'name': 'USD_JPY',\n   'type': 'CURRENCY',\n   'displayName': 'USD/JPY',\n   'pipLocation': -2,\n   'displayPrecision': 3,\n   'tradeUnitsPrecision': 0,\n   'minimumTradeSize': '1',\n   'maximumTrailingStopDistance': '100.000',\n   'minimumTrailingStopDistance': '0.050',\n   'maximumPositionSize': '0',\n   'maximumOrderUnits': '100000000',\n   'marginRate': '0.04',\n   'guaranteedStopLossOrderMode': 'DISABLED',\n   'tags': [{'type': 'ASSET_CLASS', 'name': 'CURRENCY'}],\n   'financing': {'longRate': '0.0108',\n    'shortRate': '-0.0271',\n    'financingDaysOfWeek': [{'dayOfWeek': 'MONDAY', 'daysCharged': 1},\n     {'dayOfWeek': 'TUESDAY', 'daysCharged': 1},\n     {'dayOfWeek': 'WEDNESDAY', 'daysCharged': 1},\n     {'dayOfWeek': 'THURSDAY', 'daysCharged': 1},\n     {'dayOfWeek': 'FRIDAY', 'daysCharged': 1},\n     {'dayOfWeek': 'SATURDAY', 'daysCharged': 0},\n     {'dayOfWeek': 'SUNDAY', 'daysCharged': 0}]}},\n  {'name': 'EUR_USD',\n   'type': 'CURRENCY',\n   'displayName': 'EUR/USD',\n   'pipLocation': -4,\n   'displayPrecision': 5,\n   'tradeUnitsPrecision': 0,\n   'minimumTradeSize': '1',\n   'maximumTrailingStopDistance': '1.00000',\n   'minimumTrailingStopDistance': '0.00050',\n   'maximumPositionSize': '0',\n   'maximumOrderUnits': '100000000',\n   'marginRate': '0.04',\n   'guaranteedStopLossOrderMode': 'DISABLED',\n   'tags': [{'type': 'ASSET_CLASS', 'name': 'CURRENCY'}],\n   'financing': {'longRate': '-0.032',\n    'shortRate': '0.0113',\n    'financingDaysOfWeek': [{'dayOfWeek': 'MONDAY', 'daysCharged': 1},\n     {'dayOfWeek': 'TUESDAY', 'daysCharged': 1},\n     {'dayOfWeek': 'WEDNESDAY', 'daysCharged': 1},\n     {'dayOfWeek': 'THURSDAY', 'daysCharged': 1},\n     {'dayOfWeek': 'FRIDAY', 'daysCharged': 1},\n     {'dayOfWeek': 'SATURDAY', 'daysCharged': 0},\n     {'dayOfWeek': 'SUNDAY', 'daysCharged': 0}]}},\n  {'name': 'EUR_JPY',\n   'type': 'CURRENCY',\n   'displayName': 'EUR/JPY',\n   'pipLocation': -2,\n   'displayPrecision': 3,\n   'tradeUnitsPrecision': 0,\n   'minimumTradeSize': '1',\n   'maximumTrailingStopDistance': '100.000',\n   'minimumTrailingStopDistance': '0.050',\n   'maximumPositionSize': '0',\n   'maximumOrderUnits': '100000000',\n   'marginRate': '0.04',\n   'guaranteedStopLossOrderMode': 'DISABLED',\n   'tags': [{'type': 'ASSET_CLASS', 'name': 'CURRENCY'}],\n   'financing': {'longRate': '-0.0125',\n    'shortRate': '-0.0067',\n    'financingDaysOfWeek': [{'dayOfWeek': 'MONDAY', 'daysCharged': 1},\n     {'dayOfWeek': 'TUESDAY', 'daysCharged': 1},\n     {'dayOfWeek': 'WEDNESDAY', 'daysCharged': 1},\n     {'dayOfWeek': 'THURSDAY', 'daysCharged': 1},\n     {'dayOfWeek': 'FRIDAY', 'daysCharged': 1},\n     {'dayOfWeek': 'SATURDAY', 'daysCharged': 0},\n     {'dayOfWeek': 'SUNDAY', 'daysCharged': 0}]}}],\n 'lastTransactionID': '3'}"
     },
     "execution_count": 14,
     "metadata": {},
     "output_type": "execute_result"
    }
   ],
   "source": [
    "# 取引可能な通貨情報の取得\n",
    "currencies = ['USD_JPY', 'EUR_USD', 'EUR_JPY']\n",
    "params = {'instruments': ','.join(currencies)}\n",
    "r = accounts.AccountInstruments(accountID=accountID, params=params)\n",
    "api.request(r)"
   ]
  },
  {
   "cell_type": "code",
   "execution_count": 35,
   "metadata": {},
   "outputs": [
    {
     "data": {
      "text/plain": "{'account': {'guaranteedStopLossOrderMode': 'DISABLED',\n  'hedgingEnabled': False,\n  'id': '101-009-13403392-001',\n  'createdTime': '2020-02-09T08:53:11.514836287Z',\n  'currency': 'JPY',\n  'createdByUserID': 13403392,\n  'alias': 'Primary',\n  'marginRate': '0.04',\n  'lastTransactionID': '4',\n  'balance': '3000000.0000',\n  'openTradeCount': 0,\n  'openPositionCount': 0,\n  'pendingOrderCount': 1,\n  'pl': '0.0000',\n  'resettablePL': '0.0000',\n  'resettablePLTime': '0',\n  'financing': '0.0000',\n  'commission': '0.0000',\n  'dividendAdjustment': '0',\n  'guaranteedExecutionFees': '0.0000',\n  'unrealizedPL': '0.0000',\n  'NAV': '3000000.0000',\n  'marginUsed': '0.0000',\n  'marginAvailable': '3000000.0000',\n  'positionValue': '0.0000',\n  'marginCloseoutUnrealizedPL': '0.0000',\n  'marginCloseoutNAV': '3000000.0000',\n  'marginCloseoutMarginUsed': '0.0000',\n  'marginCloseoutPositionValue': '0.0000',\n  'marginCloseoutPercent': '0.00000',\n  'withdrawalLimit': '3000000.0000'},\n 'lastTransactionID': '4'}"
     },
     "execution_count": 35,
     "metadata": {},
     "output_type": "execute_result"
    }
   ],
   "source": [
    "# 口座情報の取得\n",
    "r = accounts.AccountSummary(accountID)\n",
    "api.request(r)"
   ]
  },
  {
   "cell_type": "code",
   "execution_count": 32,
   "metadata": {},
   "outputs": [
    {
     "data": {
      "text/plain": "{'instrument': 'USD_JPY',\n 'granularity': 'M30',\n 'candles': [{'complete': True,\n   'volume': 1292,\n   'time': '2020-02-07T19:30:00.000000000Z',\n   'mid': {'o': '109.732', 'h': '109.764', 'l': '109.713', 'c': '109.734'}},\n  {'complete': True,\n   'volume': 1112,\n   'time': '2020-02-07T20:00:00.000000000Z',\n   'mid': {'o': '109.734', 'h': '109.775', 'l': '109.734', 'c': '109.770'}},\n  {'complete': True,\n   'volume': 928,\n   'time': '2020-02-07T20:30:00.000000000Z',\n   'mid': {'o': '109.770', 'h': '109.778', 'l': '109.755', 'c': '109.769'}},\n  {'complete': True,\n   'volume': 460,\n   'time': '2020-02-07T21:00:00.000000000Z',\n   'mid': {'o': '109.770', 'h': '109.779', 'l': '109.752', 'c': '109.771'}},\n  {'complete': True,\n   'volume': 449,\n   'time': '2020-02-07T21:30:00.000000000Z',\n   'mid': {'o': '109.773', 'h': '109.802', 'l': '109.749', 'c': '109.749'}}]}"
     },
     "execution_count": 32,
     "metadata": {},
     "output_type": "execute_result"
    }
   ],
   "source": [
    "# 価格データの取得\n",
    "# 5000件まで\n",
    "params = {\n",
    "  \"count\": 5,\n",
    "  \"granularity\": \"M30\"\n",
    "}\n",
    "r = instruments.InstrumentsCandles(instrument=\"USD_JPY\", params=params)\n",
    "api.request(r)"
   ]
  },
  {
   "cell_type": "code",
   "execution_count": 33,
   "metadata": {},
   "outputs": [
    {
     "data": {
      "text/plain": "{'orderCreateTransaction': {'type': 'LIMIT_ORDER',\n  'instrument': 'USD_JPY',\n  'units': '-1',\n  'price': '1.200',\n  'timeInForce': 'GTC',\n  'triggerCondition': 'DEFAULT',\n  'partialFill': 'DEFAULT',\n  'positionFill': 'DEFAULT',\n  'stopLossOnFill': {'price': '1.220', 'timeInForce': 'GTC'},\n  'reason': 'CLIENT_ORDER',\n  'id': '4',\n  'accountID': '101-009-13403392-001',\n  'userID': 13403392,\n  'batchID': '4',\n  'requestID': '78689799205760792',\n  'time': '2020-02-09T09:35:32.393335272Z'},\n 'relatedTransactionIDs': ['4'],\n 'lastTransactionID': '4'}"
     },
     "execution_count": 33,
     "metadata": {},
     "output_type": "execute_result"
    }
   ],
   "source": [
    "# 注文処理\n",
    "data =  {\n",
    "    \"order\": {\n",
    "        \"price\": \"1.2\",\n",
    "        \"stopLossOnFill\": {\n",
    "            \"timeInForce\": \"GTC\",\n",
    "            \"price\": \"1.22\"\n",
    "        },\n",
    "        \"timeInForce\": \"GTC\",\n",
    "        \"instrument\": \"USD_JPY\",\n",
    "        \"units\": \"-1\",\n",
    "        \"type\": \"LIMIT\",\n",
    "        \"positionFill\": \"DEFAULT\"\n",
    "    }    \n",
    "}\n",
    "r = orders.OrderCreate(accountID, data=data)\n",
    "api.request(r)"
   ]
  },
  {
   "cell_type": "code",
   "execution_count": 39,
   "metadata": {},
   "outputs": [
    {
     "data": {
      "text/plain": "{'positions': [], 'lastTransactionID': '4'}"
     },
     "execution_count": 39,
     "metadata": {},
     "output_type": "execute_result"
    }
   ],
   "source": [
    "# ポジション確認\n",
    "r = positions.OpenPositions(accountID=accountID)\n",
    "api.request(r)"
   ]
  },
  {
   "cell_type": "code",
   "execution_count": null,
   "metadata": {},
   "outputs": [],
   "source": []
  }
 ]
}